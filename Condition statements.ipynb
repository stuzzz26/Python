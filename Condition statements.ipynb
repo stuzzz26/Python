{
 "cells": [
  {
   "cell_type": "code",
   "execution_count": 3,
   "id": "a1d0185a",
   "metadata": {},
   "outputs": [
    {
     "name": "stdout",
     "output_type": "stream",
     "text": [
      "enter age 15\n",
      "you are not eligible for voting\n"
     ]
    }
   ],
   "source": [
    "# 1. wap to check whether a person is eligible for voting or not \n",
    "a=int(input(\"enter age \"))\n",
    "if a>=18:\n",
    "    print(\"you are eligible for voting\")\n",
    "else:\n",
    "    print(\"you are not eligible for voting\")"
   ]
  },
  {
   "cell_type": "code",
   "execution_count": 2,
   "id": "eace83ef",
   "metadata": {},
   "outputs": [
    {
     "name": "stdout",
     "output_type": "stream",
     "text": [
      "enter number4\n",
      "Bye\n"
     ]
    }
   ],
   "source": [
    "# 2. wap to display \"Hello\" if a number entered by use is divisible of five otherwise print \"bye\" \n",
    "a=int(input(\"enter number\"))\n",
    "if a%5==0:\n",
    "    print(\"Hello\")\n",
    "else:\n",
    "    print(\"Bye\")"
   ]
  },
  {
   "cell_type": "code",
   "execution_count": 6,
   "id": "fcd17304",
   "metadata": {},
   "outputs": [
    {
     "name": "stdout",
     "output_type": "stream",
     "text": [
      "enter number a 78\n",
      "enter number b 89\n",
      "b is maximum than a\n"
     ]
    }
   ],
   "source": [
    "# 3. wap to find maximum between two number \n",
    "a=int(input(\"enter number a \"))\n",
    "b=int(input(\"enter number b \"))\n",
    "if a>b:\n",
    "    print(\"a is maximum than b\")\n",
    "else:\n",
    "    print(\"b is maximum than a\")"
   ]
  },
  {
   "cell_type": "code",
   "execution_count": 9,
   "id": "9c31f487",
   "metadata": {},
   "outputs": [
    {
     "name": "stdout",
     "output_type": "stream",
     "text": [
      "enter length12\n",
      "30.48\n"
     ]
    }
   ],
   "source": [
    "# 4. wap that asks the user to enter a length. If the user enters a negative length, the program should tell the user that the entry is invalid. Otherwise, the program should convert the length to inches and print out the result. There are 2.54 centimeters in an inch\n",
    "a=int(input(\"enter length\"))\n",
    "if a<0:\n",
    "    print(\"length is negative\")\n",
    "else:\n",
    "    print(a*2.54)"
   ]
  },
  {
   "cell_type": "code",
   "execution_count": 1,
   "id": "93472125",
   "metadata": {},
   "outputs": [
    {
     "name": "stdout",
     "output_type": "stream",
     "text": [
      "enter word456\n",
      "number is not palindrome\n"
     ]
    }
   ],
   "source": [
    "# 5. wap to check whether entered num is palindrome or not\n",
    "a=input(\"enter word\")\n",
    "if a==a[ : :-1]:\n",
    "    print(\"number is palindrome\")\n",
    "else:\n",
    "    print(\"number is not palindrome\")"
   ]
  },
  {
   "cell_type": "code",
   "execution_count": 3,
   "id": "113fdc93",
   "metadata": {},
   "outputs": [
    {
     "name": "stdout",
     "output_type": "stream",
     "text": [
      "enter cityDelhi\n",
      "Red Fort\n"
     ]
    }
   ],
   "source": [
    "# 6. Accept any city from the user and display monument of the city\n",
    "c=input(\"enter city\")\n",
    "if c=='Delhi':\n",
    "    print(\"Red Fort\")\n",
    "elif c=='Agra':\n",
    "    print(\"Taj Mahal\")\n",
    "elif c=='Jaipur':\n",
    "    print(\"Jal Mahal\")\n",
    "elif c=='Kolkata':\n",
    "    print(\"Victoria Memorial\")\n",
    "elif c=='Karnataka':\n",
    "    print(\"Hampi\")\n",
    "else:\n",
    "    print(\"enter proper monument\")"
   ]
  },
  {
   "cell_type": "code",
   "execution_count": 5,
   "id": "f850f9c8",
   "metadata": {},
   "outputs": [
    {
     "name": "stdout",
     "output_type": "stream",
     "text": [
      "enter year2024\n",
      "leap year\n"
     ]
    }
   ],
   "source": [
    "# 7. wap to check whether entered year is leap year or not\n",
    "y=int(input(\"enter year\"))\n",
    "if y%400==0:\n",
    "    print(\"Leap year\")\n",
    "elif y%100==0:\n",
    "    print(\"not leap year\")\n",
    "elif y%4==0:\n",
    "    print(\"leap year\")\n",
    "else:\n",
    "    print(\"not leap year\")"
   ]
  },
  {
   "cell_type": "code",
   "execution_count": 6,
   "id": "82df51db",
   "metadata": {},
   "outputs": [
    {
     "name": "stdout",
     "output_type": "stream",
     "text": [
      "enter side 1 34\n",
      "enter side 2 56\n",
      "enter side 3 2\n",
      "Scalene triangle\n"
     ]
    }
   ],
   "source": [
    "#8. wap to check triangle is equalitrael isocles and scalen\n",
    "s1=int(input(\"enter side 1 \"))\n",
    "s2=int(input(\"enter side 2 \"))\n",
    "s3=int(input(\"enter side 3 \")) \n",
    "if (s1==s2==s3):\n",
    "    print(\"equilateral triangle\")\n",
    "elif (s1==s2 or s1==s3 or s2==s3): \n",
    "    print(\"Isosceles triangle\") \n",
    "else:\n",
    "    print(\"Scalene triangle\")"
   ]
  },
  {
   "cell_type": "code",
   "execution_count": 7,
   "id": "346e6e3b",
   "metadata": {},
   "outputs": [
    {
     "name": "stdout",
     "output_type": "stream",
     "text": [
      "enter price of bike100001\n",
      "Tax  15000.15\n"
     ]
    }
   ],
   "source": [
    "# 9. wap to accept the cost price of a bike and display the road tax to be paid according to the following criteria:\n",
    "#     cost price         Tax\n",
    "#     >100000             15%\n",
    "#     >50000 &<=100000    10% \n",
    "#     <=50000             5%\n",
    "\n",
    "p=int(input(\"enter price of bike\"))\n",
    "t=0\n",
    "if p>10000:\n",
    "    t=15/100*p\n",
    "elif p>50000:\n",
    "    t=10/100*p\n",
    "elif p<=100000:\n",
    "     t=10/100*p\n",
    "else:\n",
    "    t=5/100*p\n",
    "print(\"Tax \",t)"
   ]
  },
  {
   "cell_type": "code",
   "execution_count": 10,
   "id": "fd69b913",
   "metadata": {},
   "outputs": [
    {
     "name": "stdout",
     "output_type": "stream",
     "text": [
      "enter electric units345\n",
      "Total Amount 625\n"
     ]
    }
   ],
   "source": [
    "# 10. Accept the electric units from user and calculate the bill \n",
    "u=int(input(\"enter electric units\"))\n",
    "if u<=100:\n",
    "    print(\"Free\")\n",
    "elif u>100 and u<=300:\n",
    "     a=(u-100)*2\n",
    "else:\n",
    "    a=400+(u-300)*5\n",
    "print(\"Total Amount\",a)"
   ]
  },
  {
   "cell_type": "code",
   "execution_count": 1,
   "id": "cd6a03dc",
   "metadata": {},
   "outputs": [
    {
     "name": "stdout",
     "output_type": "stream",
     "text": [
      "enter credits taken78\n",
      "juniors\n"
     ]
    }
   ],
   "source": [
    "# 11.wap that asks the user how many credits they have taken. If they have taken 23 or less, print that the student is a freshman. If they have taken between 24 and 53, print that they are a sophomore. The range for juniors is 54 to 83, and for seniors it is 84 and over\n",
    "c=int(input(\"enter credits taken\"))\n",
    "if c==23 or c<23:\n",
    "    print(\"student is freshman\")\n",
    "elif c==24 and c==53:\n",
    "    print(\"student is sophomore\") \n",
    "elif c>=53 and c<=83:\n",
    "    print(\"juniors\")\n",
    "elif c>=83:\n",
    "    print(\"seniors\")"
   ]
  },
  {
   "cell_type": "code",
   "execution_count": 3,
   "id": "601b6e92",
   "metadata": {},
   "outputs": [
    {
     "name": "stdout",
     "output_type": "stream",
     "text": [
      "enter how many itmes buying4\n",
      "48\n"
     ]
    }
   ],
   "source": [
    "# 12. A store charges $12 per item if you buy less than 10 items. If you buy between 10 and 99 items, the cost is $10 per item. If you buy 100 or more items, the cost is $7 per item. wap that asks the user how many items they are buying and prints the total cost. \n",
    "i=int(input(\"enter how many itmes buying\"))\n",
    "if i<=10:\n",
    "    print(i*12)\n",
    "elif i>=10 and i<=99:\n",
    "    print(i*10) \n",
    "elif i>=100:\n",
    "    print(i*7)\n",
    "else:\n",
    "    print(\"enter proper items\")"
   ]
  },
  {
   "cell_type": "code",
   "execution_count": 2,
   "id": "b0616723",
   "metadata": {},
   "outputs": [
    {
     "name": "stdout",
     "output_type": "stream",
     "text": [
      "enter number1 34\n",
      "enter number2 23\n",
      "enter number3 34\n",
      "0\n"
     ]
    }
   ],
   "source": [
    "# 13. wap to sum of three given integers.However, if two values are equal sum will be zero. \n",
    "n1=int(input(\"enter number1 \"))\n",
    "n2=int(input(\"enter number2 \"))\n",
    "n3=int(input(\"enter number3 \")) \n",
    "if n1==n2 or n1==n3:\n",
    "    print(0) \n",
    "elif n2==n1 or n2==n3:\n",
    "    print(0) \n",
    "elif n3==n1 or n3==n2:\n",
    "    print(0)\n",
    "else:\n",
    "    print(n1+n2+n3)"
   ]
  },
  {
   "cell_type": "code",
   "execution_count": 8,
   "id": "563bb4f5",
   "metadata": {},
   "outputs": [
    {
     "name": "stdout",
     "output_type": "stream",
     "text": [
      "Enter number from 1 to 7 6\n",
      "Friday\n"
     ]
    }
   ],
   "source": [
    "# 14. wap to accept a number from 1 to 7 and display the name of the day like 1 for sunday so on\n",
    "d=int(input(\"Enter number from 1 to 7 \"))\n",
    "if d==1:\n",
    "    print(\"Sunday\")\n",
    "elif d==2:\n",
    "    print(\"Monday\")\n",
    "elif d==3:\n",
    "    print(\"Tuesday\")\n",
    "elif d==4:\n",
    "    print(\"Wednesday\")\n",
    "elif d==5:\n",
    "    print(\"Thursday\")\n",
    "elif d==6:\n",
    "    print(\"Friday\")\n",
    "else:\n",
    "    print(\"Saturday\")"
   ]
  },
  {
   "cell_type": "code",
   "execution_count": 11,
   "id": "6e373c8f",
   "metadata": {},
   "outputs": [
    {
     "name": "stdout",
     "output_type": "stream",
     "text": [
      "Enter any number:345\n",
      "Three digit number\n"
     ]
    }
   ],
   "source": [
    "# 15 .wap to check whether given number is of one digited or two digited or three digited or more than three digited.\n",
    "a=int(input(\"Enter any number:\"))\n",
    "if a>0 and a<10:\n",
    "    print(\"One digit number\")\n",
    "elif a>10 and a<100:\n",
    "    print(\"Two digit number\")\n",
    "elif a>100 and a<1000:\n",
    "    print(\"Three digit number\")\n",
    "else:\n",
    "    print(\"More than three digit number\")"
   ]
  },
  {
   "cell_type": "code",
   "execution_count": null,
   "id": "93f8c6da",
   "metadata": {},
   "outputs": [],
   "source": []
  }
 ],
 "metadata": {
  "kernelspec": {
   "display_name": "Python 3 (ipykernel)",
   "language": "python",
   "name": "python3"
  },
  "language_info": {
   "codemirror_mode": {
    "name": "ipython",
    "version": 3
   },
   "file_extension": ".py",
   "mimetype": "text/x-python",
   "name": "python",
   "nbconvert_exporter": "python",
   "pygments_lexer": "ipython3",
   "version": "3.10.9"
  }
 },
 "nbformat": 4,
 "nbformat_minor": 5
}
